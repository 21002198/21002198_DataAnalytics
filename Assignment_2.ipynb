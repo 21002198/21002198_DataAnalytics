{
  "nbformat": 4,
  "nbformat_minor": 0,
  "metadata": {
    "colab": {
      "provenance": [],
      "toc_visible": true
    },
    "kernelspec": {
      "name": "python3",
      "display_name": "Python 3"
    },
    "language_info": {
      "name": "python"
    }
  },
  "cells": [
    {
      "cell_type": "markdown",
      "source": [
        "# Analysis of Weather on Collisions in New York City: Regression Analysis"
      ],
      "metadata": {
        "id": "-6q1LrTKqhfS"
      }
    },
    {
      "cell_type": "markdown",
      "source": [
        "## Introduction\n",
        "\n",
        "The collisions that occur on the streets of New York City (NYC) can be attributed to various causes, this including the weather conditions. Having conducted initial data analysis in Assignment 1, this report will delve further into the data. This will include building Regression models which will allow the relationship between the weather and the number of collisions that occurred on any given day in NYC to be modelled. Additionally, further variables analysed within Assignment 1 which were deemed relevant, including location, will be built into the model building.\n",
        "\n",
        "This report will produce both Linear Regression and Deep Neural Network models, to establish the most accurate models for future use by the emergency services. This will allow for predicting the number of collisions on any given day, resulting in better preparation by the services."
      ],
      "metadata": {
        "id": "CzwbWaCEqqLs"
      }
    },
    {
      "cell_type": "markdown",
      "source": [
        "# Methodology\n",
        "The analysis will consist of building multiple regression models in Python (Python Software Foundation, 2024) using Tensorflow (Abadi et al., 2015) and the previously compiled and cleaned datasets from Assignment 1. Two types of regression analysis will be utilised; Linear Regression and Deep Neural Network. This will allow for analysis of variables with linear relationships as well as investigating further with additional variables through the Deep Neural Network. To conclude, the results of the models will be discussed and the most accurate models recommended for use by the emergency services.\n"
      ],
      "metadata": {
        "id": "61-nSqwjzUlk"
      }
    },
    {
      "cell_type": "markdown",
      "source": [
        "## Linear Regression\n",
        "For the Linear Regression analysis, multiple models will be built to allow for different scenarios to be investigated. This will primarily include conducting analysis on the Early period (2012-2019), the Late period (2020-2024) and the combined period (2012-2024), due to the differences in behaviour noted in Assignment 1 in the later years compared to early.\n",
        "The Linear Regression analysis will incorporate variables identified during Assignment 1 as having a more linear relationship which includes Temperature, Wind Speed and Dew Point. Additionally, 'Day' and 'Year' will both be included in the analysis due to the linear relationships identified. Further models will be built with additional weather variables including Wind Gusts, Maximum Temperature and Minimum Temperature.\n",
        "\n",
        "The Linear Regression Analysis will entail creating a dataframe, from the data created in Assignment 1, with all required variables for the model. Training and Test datasets will then be created where the Training dataset will contain 80% of the overall data and the Test data with the remaining 20%. Further subsets will be created for both Test and Training which will include only the Independent Variables, removing the Dependent Variable (Number of Collisions).  Standardisation will be applied in the form of scaling (dividing by 100) to improve the performance and accuracy of the models. Additionally, the Linear Regression Model will be built, the Training data will be used to train the model and the Mean Absolute Error (MAE) will be calculated to allow an assessment of how the model performs.\n",
        "\n",
        "Finally, the Test data will be utilised to test the model, where the Actual vs Predicted Values will be plotted allowing visual analysis of the Model performance.  \n",
        "\n",
        "\n"
      ],
      "metadata": {
        "id": "SKvxJYit3Sgv"
      }
    },
    {
      "cell_type": "markdown",
      "source": [
        "## Deep Neural Network\n",
        "The Deep Neural Network analysis will similarly be modelled for the Early, Late and Combined periods. However, this analysis will include more variables as it is not dependent on a Linear Relationship. As such, further weather variables will be incorporated as well as Day, Month and Year, and Latitude and Longitude. This will allow for time and location to be considered in building the relationship between weather and the number of collisions.\n",
        "The process of building the DNN models will follow a similar process to that of the Linear Regression Models, however standardising will take place to a smaller degree due the closer range of values across the Independent and Dependent Variables, and Deep Neural Network Models will be built in place of the Linear models."
      ],
      "metadata": {
        "id": "YrCyB8dzZ1Eg"
      }
    },
    {
      "cell_type": "markdown",
      "source": [
        "# Results"
      ],
      "metadata": {
        "id": "jYK4Adza8gvg"
      }
    },
    {
      "cell_type": "code",
      "source": [
        "# import packages\n",
        "import pandas as pd\n",
        "import numpy as np\n",
        "import tensorflow as tf\n",
        "import matplotlib.pyplot as plt\n",
        "\n",
        "from tensorflow import keras\n",
        "from tensorflow.keras import layers\n",
        "from sklearn.preprocessing import StandardScaler"
      ],
      "metadata": {
        "id": "bHSKhKNwDDPH"
      },
      "execution_count": 1,
      "outputs": []
    },
    {
      "cell_type": "code",
      "source": [
        "#import datasets from Assignment 1\n",
        "#combined clean dataset\n",
        "clean = pd.read_csv('https://raw.githubusercontent.com/21002198/21002198_DataAnalytics/refs/heads/main/assignment2_combinedclean.csv')\n",
        "#early period (2012-19) clean dataset\n",
        "early= pd.read_csv('https://raw.githubusercontent.com/21002198/21002198_DataAnalytics/refs/heads/main/assignment2_combinedearly.csv')\n",
        "#late period (2020-24) clean dataset\n",
        "late = pd.read_csv('https://raw.githubusercontent.com/21002198/21002198_DataAnalytics/refs/heads/main/assignment2_combinedlate.csv')\n",
        "#location dataset\n",
        "location = pd.read_csv('https://raw.githubusercontent.com/21002198/21002198_DataAnalytics/refs/heads/main/Assignment_2_location.csv')"
      ],
      "metadata": {
        "id": "GclzEs-_DHry"
      },
      "execution_count": 2,
      "outputs": []
    },
    {
      "cell_type": "markdown",
      "source": [
        "## Linear Regression Analysis"
      ],
      "metadata": {
        "id": "3oR4udId_wU3"
      }
    },
    {
      "cell_type": "markdown",
      "source": [
        "### All Data (2012-2024)"
      ],
      "metadata": {
        "id": "2O2Ud7ueM3J2"
      }
    },
    {
      "cell_type": "markdown",
      "source": [
        "The initial Linear Regression model includes the following variables: Temperature, Wind Speed and Dew Point as weather variables, and Day and Year as additional Variables."
      ],
      "metadata": {
        "id": "GAWauKZZF5XU"
      }
    },
    {
      "cell_type": "code",
      "source": [
        "# create a dataframe with the inputs and the output at the end using the imported dataframe.\n",
        "clean_data = [clean[\"day\"], clean[\"temp\"], clean[\"wdsp\"], clean[\"dewp\"], clean[\"year\"], clean[\"NUM_COLLISIONS\"]]\n",
        "# create headers for our new dataframe. These should correlate with the above.\n",
        "clean_header = [\"day\", \"temp\", \"wdsp\", \"dewp\", \"year\", \"NUM_COLLISIONS\"]\n",
        "# create a final dataframe using our new dataframe and headers.\n",
        "clean_input= pd.concat(clean_data, axis=1, keys=clean_header)"
      ],
      "metadata": {
        "id": "4W8aWhXGE8dQ"
      },
      "execution_count": 3,
      "outputs": []
    },
    {
      "cell_type": "code",
      "source": [
        "#training and test datasets\n",
        "training_clean = clean_input.sample(frac=0.8, random_state=0)\n",
        "test_clean = clean_input.drop(training_clean.index)\n",
        "\n",
        "#copy files and remove output column\n",
        "training_features = training_clean.copy()\n",
        "test_features = test_clean.copy()\n",
        "\n",
        "#independent variables only\n",
        "training_labels = training_features.pop('NUM_COLLISIONS')\n",
        "test_labels = test_features.pop('NUM_COLLISIONS')\n",
        "\n",
        "# Apply Standardisation\n",
        "training_labels= training_labels/100\n",
        "test_labels = test_labels/100\n",
        "\n",
        "#normalisation\n",
        "normaliser_clean = tf.keras.layers.Normalization(axis=-1)\n",
        "normaliser_clean.adapt(np.array(training_features))\n",
        "\n",
        "#model 0 - clean data\n",
        "model_0 = tf.keras.Sequential([\n",
        "    normaliser_clean,\n",
        "    layers.Dense(units=1)\n",
        "])\n",
        "\n",
        "model_0.compile(\n",
        "    optimizer=tf.optimizers.Adam(learning_rate=0.01),\n",
        "    loss='mean_absolute_error')\n"
      ],
      "metadata": {
        "id": "VLLhEBnvG9dy"
      },
      "execution_count": 10,
      "outputs": []
    },
    {
      "cell_type": "code",
      "source": [
        "#fit mode and run 100 times\n",
        "%%time\n",
        "history = model_0.fit(\n",
        "    training_features,\n",
        "    training_labels,\n",
        "    epochs=100,\n",
        "    verbose=0,\n",
        "    validation_split = 0.2)\n",
        "\n",
        "#evaluate model\n",
        "mean_absolute_error_model_0 = model_0.evaluate(\n",
        "    test_features,\n",
        "    test_labels, verbose=0)\n",
        "\n",
        "#print mean absolute error\n",
        "print(mean_absolute_error_model_0)"
      ],
      "metadata": {
        "colab": {
          "base_uri": "https://localhost:8080/"
        },
        "id": "6tN9Za67IoIk",
        "outputId": "42635216-d7e2-4f25-bcab-add59f952c7d"
      },
      "execution_count": 11,
      "outputs": [
        {
          "output_type": "stream",
          "name": "stdout",
          "text": [
            "0.8928360342979431\n",
            "CPU times: user 10.7 s, sys: 705 ms, total: 11.4 s\n",
            "Wall time: 13.8 s\n"
          ]
        }
      ]
    },
    {
      "cell_type": "markdown",
      "source": [
        "The modelling presents a Mean Absolute Error (MAE) of 0.89, a reasonable level of error in the number of collisions. Due to the scaling applied, this would be an error of within 89 collisions of the true value."
      ],
      "metadata": {
        "id": "xQL8xMA8fr9A"
      }
    },
    {
      "cell_type": "code",
      "source": [
        "#removing no. collisions from dataset\n",
        "test_clean = test_clean.drop(columns=['NUM_COLLISIONS'])\n",
        "\n",
        "#test data predictions\n",
        "linear_day_predictions_0 = model_0.predict(test_clean)*100"
      ],
      "metadata": {
        "colab": {
          "base_uri": "https://localhost:8080/"
        },
        "collapsed": true,
        "id": "mKFipO7fa2gg",
        "outputId": "b248a3cb-2e24-4af3-92d2-d0e86e72b485"
      },
      "execution_count": 12,
      "outputs": [
        {
          "output_type": "stream",
          "name": "stdout",
          "text": [
            "\u001b[1m17/17\u001b[0m \u001b[32m━━━━━━━━━━━━━━━━━━━━\u001b[0m\u001b[37m\u001b[0m \u001b[1m0s\u001b[0m 1ms/step \n"
          ]
        }
      ]
    },
    {
      "cell_type": "code",
      "source": [
        "#create actual values\n",
        "actual_values = test_labels[:30] * 100\n",
        "# Compare predicted values with actual values - produce plot\n",
        "plt.scatter(actual_values[:30], linear_day_predictions_0[:30], color='blue', label='Predicted')\n",
        "plt.scatter(actual_values[:30], actual_values[:30], color='red', label='Actual')\n",
        "plt.xlabel('Actual values')\n",
        "plt.ylabel('Predicted values')\n",
        "plt.legend()\n",
        "plt.title('Actual vs Predicted')\n",
        "plt.show()"
      ],
      "metadata": {
        "colab": {
          "base_uri": "https://localhost:8080/",
          "height": 472
        },
        "id": "MVhYmfv9a5Ek",
        "outputId": "6004929b-3976-47ff-b55a-e3fc9fca9792"
      },
      "execution_count": 13,
      "outputs": [
        {
          "output_type": "display_data",
          "data": {
            "text/plain": [
              "<Figure size 640x480 with 1 Axes>"
            ],
            "image/png": "[encoded data removed]"
          },
          "metadata": {}
        }
      ]
    },
    {
      "cell_type": "markdown",
      "source": [
        "Testing the model and plotting the results, the above shows the predicted vs actual values. The model shows scattering around the actual values at low and mid range, whilst sitting further away at the high values.\n",
        "\n",
        " A further model will be built below with additional variables including Wind Gusts and Max and Minimum Temperature to assess any impact on the model performance."
      ],
      "metadata": {
        "id": "1RuJ3GX5JVDF"
      }
    },
    {
      "cell_type": "code",
      "source": [
        "# create a dataframe with the inputs and the output at the end using the imported dataframe.\n",
        "clean_data_ext = [clean[\"day\"], clean[\"temp\"], clean[\"wdsp\"], clean[\"dewp\"], clean[\"gust\"], clean[\"max\"], clean[\"min\"],clean[\"year\"], clean[\"NUM_COLLISIONS\"]]\n",
        "# create headers for our new dataframe. These should correlate with the above.\n",
        "clean_header_ext = [\"day\", \"temp\", \"wdsp\", \"dewp\", \"gust\", \"max\", \"min\", \"year\", \"NUM_COLLISIONS\"]\n",
        "# create a final dataframe using our new dataframe and headers.\n",
        "clean_input_ext = pd.concat(clean_data, axis=1, keys=clean_header)"
      ],
      "metadata": {
        "id": "iypFyio3K8oC"
      },
      "execution_count": 14,
      "outputs": []
    },
    {
      "cell_type": "code",
      "source": [
        "#training and test datasets\n",
        "training_clean_ext = clean_input_ext.sample(frac=0.8, random_state=0)\n",
        "test_clean_ext = clean_input_ext.drop(training_clean_ext.index)\n",
        "\n",
        "#copy files and remove output column\n",
        "training_features_ext = training_clean_ext.copy()\n",
        "test_features_ext = test_clean_ext.copy()\n",
        "\n",
        "#independent variables only\n",
        "training_labels_ext = training_features_ext.pop('NUM_COLLISIONS')\n",
        "test_labels_ext = test_features_ext.pop('NUM_COLLISIONS')\n",
        "\n",
        "# Apply Standardisation\n",
        "training_labels_ext= training_labels_ext/100\n",
        "test_labels_ext = test_labels_ext/100\n",
        "\n",
        "#normalisation\n",
        "normaliser_clean_ext = tf.keras.layers.Normalization(axis=-1)\n",
        "normaliser_clean_ext.adapt(np.array(training_features_ext))\n",
        "\n",
        "#model 1 - produce model\n",
        "model_1 = tf.keras.Sequential([\n",
        "    normaliser_clean_ext,\n",
        "    layers.Dense(units=1)\n",
        "])\n",
        "\n",
        "model_1.compile(\n",
        "    optimizer=tf.optimizers.Adam(learning_rate=0.01),\n",
        "    loss='mean_absolute_error')"
      ],
      "metadata": {
        "id": "_lGxVVsTLIUq"
      },
      "execution_count": 15,
      "outputs": []
    },
    {
      "cell_type": "code",
      "source": [
        "#fit mode and run 100 times\n",
        "%%time\n",
        "history = model_1.fit(\n",
        "    training_features_ext,\n",
        "    training_labels_ext,\n",
        "    epochs=100,\n",
        "    verbose=0,\n",
        "    validation_split = 0.2)\n",
        "\n",
        "#evaluate model\n",
        "mean_absolute_error_model_1 = model_1.evaluate(\n",
        "    test_features_ext,\n",
        "    test_labels_ext, verbose=0)\n",
        "\n",
        "\n",
        "#print mean absolute error\n",
        "print(mean_absolute_error_model_1)"
      ],
      "metadata": {
        "colab": {
          "base_uri": "https://localhost:8080/"
        },
        "id": "pv775mU1LKPY",
        "outputId": "ce7e380d-1dc1-40cd-82e1-e7c4e022a26d"
      },
      "execution_count": 16,
      "outputs": [
        {
          "output_type": "stream",
          "name": "stdout",
          "text": [
            "0.8921781182289124\n",
            "CPU times: user 10.3 s, sys: 607 ms, total: 10.9 s\n",
            "Wall time: 13.2 s\n"
          ]
        }
      ]
    },
    {
      "cell_type": "markdown",
      "source": [
        "The addition of these variables results in a consistent level of error with the above model, computing a MAE of 0.89."
      ],
      "metadata": {
        "id": "iry2CY63gIYq"
      }
    },
    {
      "cell_type": "code",
      "source": [
        "#removing no. collisions from dataset\n",
        "test_clean_ext = test_clean_ext.drop(columns=['NUM_COLLISIONS'])\n",
        "\n",
        "#test data predictions\n",
        "linear_day_predictions_1 = model_1.predict(test_clean_ext)*100"
      ],
      "metadata": {
        "colab": {
          "base_uri": "https://localhost:8080/"
        },
        "collapsed": true,
        "id": "s9yg_7BqZFSU",
        "outputId": "bb69c3c2-1d4b-445d-8d61-a56dee0f0a8b"
      },
      "execution_count": 17,
      "outputs": [
        {
          "output_type": "stream",
          "name": "stdout",
          "text": [
            "\u001b[1m17/17\u001b[0m \u001b[32m━━━━━━━━━━━━━━━━━━━━\u001b[0m\u001b[37m\u001b[0m \u001b[1m0s\u001b[0m 5ms/step\n"
          ]
        }
      ]
    },
    {
      "cell_type": "code",
      "source": [
        "actual_values_ext = test_labels_ext[:30] * 100\n",
        "# Compare predicted values with actual values\n",
        "plt.scatter(actual_values_ext[:30], linear_day_predictions_1[:30], color='blue', label='Predicted')\n",
        "plt.scatter(actual_values_ext[:30], actual_values_ext[:30], color='red', label='Actual')\n",
        "plt.xlabel('Actual values')\n",
        "plt.ylabel('Predicted values')\n",
        "plt.legend()\n",
        "plt.title('Actual vs Predicted')\n",
        "plt.show()"
      ],
      "metadata": {
        "colab": {
          "base_uri": "https://localhost:8080/",
          "height": 472
        },
        "id": "dcTV0opYZPo8",
        "outputId": "09cc563c-0993-4144-b1bb-f06dcdef498a"
      },
      "execution_count": 18,
      "outputs": [
        {
          "output_type": "display_data",
          "data": {
            "text/plain": [
              "<Figure size 640x480 with 1 Axes>"
            ],
            "image/png": "[encoded data removed]"
          },
          "metadata": {}
        }
      ]
    },
    {
      "cell_type": "markdown",
      "source": [
        "Plotting the testing, the actual vs predicted results for this model presents very similar to the previous. Therefore, there appears to be no accuracy benefit in incorporating these additional variables, as such the models below will continue with the initial variables only."
      ],
      "metadata": {
        "id": "hIrHw1y3Lx21"
      }
    },
    {
      "cell_type": "markdown",
      "source": [
        "### Early Period (2012-2019)"
      ],
      "metadata": {
        "id": "493K1roVM8_C"
      }
    },
    {
      "cell_type": "code",
      "source": [
        "# create a dataframe with the inputs and the output at the end using the imported dataframe.\n",
        "clean_data_early = [early[\"day\"], early[\"temp\"], early[\"wdsp\"], early [\"dewp\"], early[\"year\"], early[\"NUM_COLLISIONS\"]]\n",
        "# create headers for our new dataframe. These should correlate with the above.\n",
        "clean_header_early = [\"day\", \"temp\", \"wdsp\", \"dewp\", \"year\", \"NUM_COLLISIONS\"]\n",
        "# create a final dataframe using our new dataframe and headers.\n",
        "clean_input_early= pd.concat(clean_data_early, axis=1, keys=clean_header_early)\n"
      ],
      "metadata": {
        "id": "vBKBOeHsNH2u"
      },
      "execution_count": 19,
      "outputs": []
    },
    {
      "cell_type": "code",
      "source": [
        "#training and test datasets\n",
        "training_clean_early = clean_input_early.sample(frac=0.8, random_state=0)\n",
        "test_clean_early = clean_input_early.drop(training_clean_early.index)\n",
        "\n",
        "#copy files and remove output column\n",
        "training_features_early = training_clean_early.copy()\n",
        "test_features_early = test_clean_early.copy()\n",
        "\n",
        "#independent variables only\n",
        "training_labels_early = training_features_early.pop('NUM_COLLISIONS')\n",
        "test_labels_early = test_features_early.pop('NUM_COLLISIONS')\n",
        "\n",
        "# standardisation\n",
        "training_labels_early = training_labels_early/100\n",
        "test_labels_early = test_labels_early/100\n",
        "\n",
        "#normalisation\n",
        "normaliser_early = tf.keras.layers.Normalization(axis=-1)\n",
        "normaliser_early.adapt(np.array(training_features_early))\n",
        "\n",
        "#model 2 - produce model\n",
        "model_2 = tf.keras.Sequential([\n",
        "    normaliser_early,\n",
        "    layers.Dense(units=1)\n",
        "])\n",
        "\n",
        "model_2.compile(\n",
        "    optimizer=tf.optimizers.Adam(learning_rate=0.01),\n",
        "    loss='mean_absolute_error')"
      ],
      "metadata": {
        "id": "wsigJ5fJNLPZ"
      },
      "execution_count": 20,
      "outputs": []
    },
    {
      "cell_type": "code",
      "source": [
        "#fit mode and run 100 times\n",
        "%%time\n",
        "history = model_2.fit(\n",
        "    training_features_early,\n",
        "    training_labels_early,\n",
        "    epochs=100,\n",
        "    verbose=0,\n",
        "    validation_split = 0.2)\n",
        "\n",
        "#evaluate model\n",
        "mean_absolute_error_model_2 = model_2.evaluate(\n",
        "    test_features_early,\n",
        "    test_labels_early, verbose=0)\n",
        "\n",
        "print(mean_absolute_error_model_2)"
      ],
      "metadata": {
        "colab": {
          "base_uri": "https://localhost:8080/"
        },
        "id": "CNuFqy0UNZJ8",
        "outputId": "d1aa6f8a-4984-4719-af4e-1da139ebee41"
      },
      "execution_count": 21,
      "outputs": [
        {
          "output_type": "stream",
          "name": "stdout",
          "text": [
            "0.7055273652076721\n",
            "CPU times: user 8.02 s, sys: 437 ms, total: 8.46 s\n",
            "Wall time: 11.3 s\n"
          ]
        }
      ]
    },
    {
      "cell_type": "markdown",
      "source": [
        "Modelling the Early Period, the MAE is calculated at 0.71; a slight improvement on the overall dataset.\n"
      ],
      "metadata": {
        "id": "aQxy77cNNphC"
      }
    },
    {
      "cell_type": "markdown",
      "source": [
        "\n",
        "The plot below shows the actual vs predicted results identifying poorer performance of the model at higher and lower collisions rates, and overall showing a much shallower positive linear trend than the actual results."
      ],
      "metadata": {
        "id": "UIaTnMDoYjdD"
      }
    },
    {
      "cell_type": "code",
      "source": [
        "#removing no. collisions from dataset\n",
        "test_early = test_clean_early.drop(columns=['NUM_COLLISIONS'])\n",
        "\n",
        "#test data predictions\n",
        "linear_day_predictions_2 = model_2.predict(test_early)*100"
      ],
      "metadata": {
        "colab": {
          "base_uri": "https://localhost:8080/"
        },
        "collapsed": true,
        "id": "7lnjCHNHVxZG",
        "outputId": "c1cc8f5f-09d9-4568-dc38-2d22a6a203cf"
      },
      "execution_count": 22,
      "outputs": [
        {
          "output_type": "stream",
          "name": "stdout",
          "text": [
            "\u001b[1m11/11\u001b[0m \u001b[32m━━━━━━━━━━━━━━━━━━━━\u001b[0m\u001b[37m\u001b[0m \u001b[1m0s\u001b[0m 3ms/step \n"
          ]
        }
      ]
    },
    {
      "cell_type": "code",
      "source": [
        "#create actual values\n",
        "actual_values_early = test_labels_early[:15] * 100\n",
        "# Compare predicted values with actual values - plot\n",
        "plt.scatter(actual_values_early[:15], linear_day_predictions_2[:15], color='blue', label='Predicted')\n",
        "plt.scatter(actual_values_early[:15], actual_values_early[:15], color='red', label='Actual')\n",
        "plt.xlabel('Actual values')\n",
        "plt.ylabel('Predicted values')\n",
        "plt.legend()\n",
        "plt.title('Actual vs Predicted')\n",
        "plt.show()"
      ],
      "metadata": {
        "colab": {
          "base_uri": "https://localhost:8080/",
          "height": 472
        },
        "id": "mG5Cm8gcXYc7",
        "outputId": "b21f2a99-1b5a-47bc-b052-0640fd4b00d4"
      },
      "execution_count": 23,
      "outputs": [
        {
          "output_type": "display_data",
          "data": {
            "text/plain": [
              "<Figure size 640x480 with 1 Axes>"
            ],
            "image/png": "[encoded data removed]"
          },
          "metadata": {}
        }
      ]
    },
    {
      "cell_type": "markdown",
      "source": [
        "### Late Period (2020-2024)"
      ],
      "metadata": {
        "id": "I1Kk2yvrN6bS"
      }
    },
    {
      "cell_type": "code",
      "source": [
        "# create a dataframe with the inputs and the output at the end using the imported dataframe.\n",
        "clean_data_late = [late[\"day\"], late[\"temp\"], late[\"wdsp\"], late [\"dewp\"], late[\"year\"], late[\"NUM_COLLISIONS\"]]\n",
        "# create headers for our new dataframe. These should correlate with the above.\n",
        "clean_header_late = [\"day\", \"temp\", \"wdsp\", \"dewp\", \"year\", \"NUM_COLLISIONS\"]\n",
        "# create a final dataframe using our new dataframe and headers.\n",
        "clean_input_late= pd.concat(clean_data_late, axis=1, keys=clean_header_late)"
      ],
      "metadata": {
        "id": "UtonQD2kN9-H"
      },
      "execution_count": 24,
      "outputs": []
    },
    {
      "cell_type": "code",
      "source": [
        "#training and test datasets\n",
        "training_clean_late = clean_input_late.sample(frac=0.8, random_state=0)\n",
        "test_clean_late = clean_input_late.drop(training_clean_late.index)\n",
        "\n",
        "#copy files and remove output column\n",
        "training_features_late = training_clean_late.copy()\n",
        "test_features_late = test_clean_late.copy()\n",
        "\n",
        "#independent variables only\n",
        "training_labels_late = training_features_late.pop('NUM_COLLISIONS')\n",
        "test_labels_late = test_features_late.pop('NUM_COLLISIONS')\n",
        "\n",
        "# standardisation.\n",
        "training_labels_late = training_labels_late/100\n",
        "test_labels_late = test_labels_late/100\n",
        "\n",
        "#normalisation\n",
        "normaliser_late = tf.keras.layers.Normalization(axis=-1)\n",
        "normaliser_late.adapt(np.array(training_features_late))\n",
        "\n",
        "#model 3 - produce model\n",
        "model_3 = tf.keras.Sequential([\n",
        "    normaliser_late,\n",
        "    layers.Dense(units=1)\n",
        "])\n",
        "\n",
        "model_3.compile(\n",
        "    optimizer=tf.optimizers.Adam(learning_rate=0.01),\n",
        "    loss='mean_absolute_error')"
      ],
      "metadata": {
        "id": "FqsFwj8MN-6x"
      },
      "execution_count": 25,
      "outputs": []
    },
    {
      "cell_type": "code",
      "source": [
        "#fit mode and run 100 times\n",
        "%%time\n",
        "history = model_3.fit(\n",
        "    training_features_late,\n",
        "    training_labels_late,\n",
        "    epochs=100,\n",
        "    verbose=0,\n",
        "    validation_split = 0.2)\n",
        "\n",
        "#evaluate model\n",
        "mean_absolute_error_model_3 = model_3.evaluate(\n",
        "    test_features_late,\n",
        "    test_labels_late, verbose=0)\n",
        "\n",
        "print(mean_absolute_error_model_3)"
      ],
      "metadata": {
        "colab": {
          "base_uri": "https://localhost:8080/"
        },
        "id": "c9rAG8vYOMH7",
        "outputId": "4232bce2-cd65-49f8-f928-10c1b1fe8d2a"
      },
      "execution_count": 26,
      "outputs": [
        {
          "output_type": "stream",
          "name": "stdout",
          "text": [
            "0.43860477209091187\n",
            "CPU times: user 6.59 s, sys: 349 ms, total: 6.94 s\n",
            "Wall time: 9.01 s\n"
          ]
        }
      ]
    },
    {
      "cell_type": "markdown",
      "source": [
        "Building a model for the Late Period, a MAE of 0.44 concludes a much stronger model with an error of within 44 collisions as opposed to 71."
      ],
      "metadata": {
        "id": "5et6S5tuOY3v"
      }
    },
    {
      "cell_type": "code",
      "source": [
        "#removing no. collisions from dataset\n",
        "test_late = test_clean_late.drop(columns=['NUM_COLLISIONS'])\n",
        "\n",
        "#test data predictions\n",
        "linear_day_predictions_3 = model_3.predict(test_late)*100"
      ],
      "metadata": {
        "colab": {
          "base_uri": "https://localhost:8080/"
        },
        "collapsed": true,
        "id": "NvscH8XLYm28",
        "outputId": "444544aa-1472-49fd-9324-9b79c1291e38"
      },
      "execution_count": 27,
      "outputs": [
        {
          "output_type": "stream",
          "name": "stdout",
          "text": [
            "\u001b[1m7/7\u001b[0m \u001b[32m━━━━━━━━━━━━━━━━━━━━\u001b[0m\u001b[37m\u001b[0m \u001b[1m0s\u001b[0m 4ms/step \n"
          ]
        }
      ]
    },
    {
      "cell_type": "code",
      "source": [
        "#calculate actual values\n",
        "actual_values_late = test_labels_late[:30] * 100\n",
        "# Compare predicted values with actual values - plot\n",
        "plt.scatter(actual_values_late[:30], linear_day_predictions_2[:30], color='blue', label='Predicted')\n",
        "plt.scatter(actual_values_late[:30], actual_values_late[:30], color='red', label='Actual')\n",
        "plt.xlabel('Actual values')\n",
        "plt.ylabel('Predicted values')\n",
        "plt.legend()\n",
        "plt.title('Actual vs Predicted')\n",
        "plt.show()"
      ],
      "metadata": {
        "colab": {
          "base_uri": "https://localhost:8080/",
          "height": 472
        },
        "id": "tmLQAqRRYufR",
        "outputId": "d24f9456-6096-41fc-cfb3-27c2da92a088"
      },
      "execution_count": 28,
      "outputs": [
        {
          "output_type": "display_data",
          "data": {
            "text/plain": [
              "<Figure size 640x480 with 1 Axes>"
            ],
            "image/png": "[encoded data removed]"
          },
          "metadata": {}
        }
      ]
    },
    {
      "cell_type": "markdown",
      "source": [
        "A plot of the test data, above, shows the predictions to be far from the actual values at the low and mid range, whilst more consistent at the higher values.\n"
      ],
      "metadata": {
        "id": "oIvCC5MVhTsT"
      }
    },
    {
      "cell_type": "markdown",
      "source": [
        "## Deep Neural Network Analysis"
      ],
      "metadata": {
        "id": "u7WHsszc_2Ig"
      }
    },
    {
      "cell_type": "markdown",
      "source": [
        "The Deep Neural Network (DNN) analysis utilises the following weather variables: Temperature, Dew Point, Wind Speed, Fog, Visibility, Precipitation and Snow Depth. In addition, the Latitude and Longitude have been incorporated along with Day, Month and Year to improve the model."
      ],
      "metadata": {
        "id": "v5uzDayZ29b9"
      }
    },
    {
      "cell_type": "markdown",
      "source": [
        "### All Data (2012-2024)"
      ],
      "metadata": {
        "id": "Fbvdughy4dNa"
      }
    },
    {
      "cell_type": "code",
      "source": [
        "#data merging - merge location and clean data files + clean\n",
        "\n",
        "all_data = pd.merge(clean, location, on = 'collision_date', how='outer')\n",
        "\n",
        "all_data = all_data.drop(columns = 'NUM_COLLISIONS')\n",
        "\n",
        "all_data.dropna(inplace = True)"
      ],
      "metadata": {
        "id": "31w8VZVmJTnx"
      },
      "execution_count": 47,
      "outputs": []
    },
    {
      "cell_type": "code",
      "source": [
        "#create an aggregated dataset\n",
        "average_collisions = all_data.groupby(['day', 'mo', 'year', 'temp', 'dewp', 'wdsp', 'fog', 'visib', 'prcp', 'sndp', 'rounded_latitude', 'rounded_longitude'])['num_collisions'].mean().reset_index()\n",
        "#rename columns\n",
        "average_collisions.rename(columns={'num_collisions':'avg_collisions',\n",
        "                                   'rounded_latitude' : 'latitude',\n",
        "                                   'rounded_longitude' : 'longitude'\n",
        "                                   }, inplace = True)"
      ],
      "metadata": {
        "id": "xqRzb3LTN1rl"
      },
      "execution_count": 48,
      "outputs": []
    },
    {
      "cell_type": "code",
      "source": [
        "#training and test datasets\n",
        "training_collisions = average_collisions.sample(frac=0.8, random_state=0)\n",
        "test_collisions  = average_collisions.sample(frac=0.2, random_state=0)\n",
        "\n",
        "#create copies of datasets\n",
        "training_features = training_collisions.copy()\n",
        "test_features = test_collisions.copy()\n",
        "\n",
        "#independent variables only\n",
        "training_labels = training_features.pop('avg_collisions')\n",
        "test_labels = test_features.pop('avg_collisions')\n",
        "\n",
        "# standardisation.\n",
        "training_labels = training_labels/10\n",
        "test_labels = test_labels/10\n",
        "\n",
        "#normalisation\n",
        "normaliser = tf.keras.layers.Normalization(axis=-1)\n",
        "normaliser.adapt(np.array(training_features))\n",
        "\n",
        "#DNN Model - build\n",
        "dnn_model_1 = keras.Sequential([\n",
        "      normaliser,\n",
        "      layers.Dense(48, activation='relu'),\n",
        "      layers.Dense(48, activation='relu'),\n",
        "      layers.Dense(1)\n",
        "  ])\n",
        "\n",
        "dnn_model_1.compile(loss='mean_absolute_error',\n",
        "                optimizer=tf.keras.optimizers.Adam(0.001))\n"
      ],
      "metadata": {
        "id": "bHMWG5y-j2q9"
      },
      "execution_count": 49,
      "outputs": []
    },
    {
      "cell_type": "code",
      "source": [
        "#process model\n",
        "%%time\n",
        "history = dnn_model_1.fit(\n",
        "    training_features,\n",
        "    training_labels,\n",
        "    validation_split=0.2,\n",
        "    verbose=0,\n",
        "    epochs=10)\n",
        "\n",
        "#results\n",
        "dnn_model_1_results = dnn_model_1.evaluate(test_features, test_labels, verbose=0)\n",
        "print(dnn_model_1_results)"
      ],
      "metadata": {
        "colab": {
          "base_uri": "https://localhost:8080/"
        },
        "id": "l6O6_jTxkJO3",
        "outputId": "7bb968c1-a851-4fb2-bc89-70ffd25ff605"
      },
      "execution_count": 50,
      "outputs": [
        {
          "output_type": "stream",
          "name": "stdout",
          "text": [
            "0.508642315864563\n",
            "CPU times: user 13.3 s, sys: 823 ms, total: 14.1 s\n",
            "Wall time: 14.3 s\n"
          ]
        }
      ]
    },
    {
      "cell_type": "markdown",
      "source": [
        "The first DNN model, above, has included data across the entire period (2012-2024). This model produces an MAE of 0.51, which is an error of within 5.1 collisions."
      ],
      "metadata": {
        "id": "kILang6n30i9"
      }
    },
    {
      "cell_type": "code",
      "source": [
        "#predictions model test\n",
        "linear_predictions_all = dnn_model_1.predict(test_features[:30]) * 10"
      ],
      "metadata": {
        "colab": {
          "base_uri": "https://localhost:8080/"
        },
        "id": "MZ2WGecOMZ0L",
        "outputId": "6d4e5e5f-9212-40d2-b984-20fbfc6f1c1b"
      },
      "execution_count": 33,
      "outputs": [
        {
          "output_type": "stream",
          "name": "stderr",
          "text": [
            "WARNING:tensorflow:5 out of the last 19 calls to <function TensorFlowTrainer.make_predict_function.<locals>.one_step_on_data_distributed at 0x7a22ee74ab00> triggered tf.function retracing. Tracing is expensive and the excessive number of tracings could be due to (1) creating @tf.function repeatedly in a loop, (2) passing tensors with different shapes, (3) passing Python objects instead of tensors. For (1), please define your @tf.function outside of the loop. For (2), @tf.function has reduce_retracing=True option that can avoid unnecessary retracing. For (3), please refer to https://www.tensorflow.org/guide/function#controlling_retracing and https://www.tensorflow.org/api_docs/python/tf/function for  more details.\n"
          ]
        },
        {
          "output_type": "stream",
          "name": "stdout",
          "text": [
            "\u001b[1m1/1\u001b[0m \u001b[32m━━━━━━━━━━━━━━━━━━━━\u001b[0m\u001b[37m\u001b[0m \u001b[1m0s\u001b[0m 60ms/step\n"
          ]
        }
      ]
    },
    {
      "cell_type": "code",
      "source": [
        "#compute actual values\n",
        "actual_values = test_labels[:30] * 10\n",
        "\n",
        "# Compare predicted values with actual values - plot\n",
        "plt.scatter(actual_values[:30], linear_predictions_all, color='blue', label='Predicted')\n",
        "plt.scatter(actual_values[:30], actual_values[:30], color='red', label='Actual')\n",
        "plt.xlabel('Actual values')\n",
        "plt.ylabel('Predicted values')\n",
        "plt.legend()\n",
        "plt.title('Actual vs Predicted')\n",
        "plt.show()"
      ],
      "metadata": {
        "colab": {
          "base_uri": "https://localhost:8080/",
          "height": 472
        },
        "id": "Ptxll2ZFMhao",
        "outputId": "623e19da-ee8e-4e33-8eb3-994de96f7781"
      },
      "execution_count": 34,
      "outputs": [
        {
          "output_type": "display_data",
          "data": {
            "text/plain": [
              "<Figure size 640x480 with 1 Axes>"
            ],
            "image/png": "[encoded data removed]"
          },
          "metadata": {}
        }
      ]
    },
    {
      "cell_type": "markdown",
      "source": [
        "Using the Test data, the plot above of Predicted and Actual collisions shows a close relationship at the low and mid values, with greater variation at the higher level. Overall, the level of error is acceptable across the range."
      ],
      "metadata": {
        "id": "FZNZZYDjN4F2"
      }
    },
    {
      "cell_type": "markdown",
      "source": [
        "### Early Period (2012-2019)"
      ],
      "metadata": {
        "id": "6nEXM5bQ4qS-"
      }
    },
    {
      "cell_type": "markdown",
      "source": [
        "Similar to the Linear Regression models, analysis of the early and late periods will allow for investigation over the models behaviour dependent on the time period.\n",
        "The model below for the Early period (2012-2019) includes the same variables as the above model containing all data; Temperature, Dew point, Wind Speed, Fog, Visibility, Precipitation, Snow Depth and Latitude and Longitude."
      ],
      "metadata": {
        "id": "Zb902QqgLOo0"
      }
    },
    {
      "cell_type": "code",
      "source": [
        "#data merging - merge location and early data files + clean\n",
        "early_data = pd.merge(early, location, on = 'collision_date', how='outer')\n",
        "\n",
        "early_data = early_data.drop(columns = 'NUM_COLLISIONS')\n",
        "\n",
        "early_data.dropna(inplace = True)"
      ],
      "metadata": {
        "id": "TGq4pRpj4ptb"
      },
      "execution_count": 51,
      "outputs": []
    },
    {
      "cell_type": "code",
      "source": [
        "#create an aggregated dataset\n",
        "average_collisions_early = early_data.groupby(['day', 'mo', 'year', 'temp', 'dewp', 'wdsp', 'fog', 'visib', 'prcp', 'sndp', 'rounded_latitude', 'rounded_longitude'])['num_collisions'].mean().reset_index()\n",
        "#rename columns\n",
        "average_collisions_early.rename(columns={'num_collisions':'avg_collisions',\n",
        "                                   'rounded_latitude' : 'latitude',\n",
        "                                   'rounded_longitude' : 'longitude'\n",
        "                                   }, inplace = True)"
      ],
      "metadata": {
        "id": "6CkYV2TqEF9L"
      },
      "execution_count": 52,
      "outputs": []
    },
    {
      "cell_type": "code",
      "source": [
        "#training and test datasets\n",
        "early_training_collisions = average_collisions_early.sample(frac=0.8, random_state=0)\n",
        "early_test_collisions = average_collisions_early.sample(frac=0.2, random_state=0)\n",
        "\n",
        "early_training_features = early_training_collisions.copy()\n",
        "early_test_features = early_test_collisions.copy()\n",
        "\n",
        "early_training_labels = early_training_features.pop('avg_collisions')\n",
        "early_test_labels = early_test_features.pop('avg_collisions')\n",
        "\n",
        "# standardisation.\n",
        "early_training_labels = early_training_labels/10\n",
        "early_test_labels = early_test_labels/10\n",
        "\n",
        "#normalisation\n",
        "early_normaliser = tf.keras.layers.Normalization(axis=-1)\n",
        "early_normaliser.adapt(np.array(early_training_features))\n",
        "\n",
        "#DNN Model\n",
        "dnn_model_2 = keras.Sequential([\n",
        "      normaliser,\n",
        "      layers.Dense(48, activation='relu'),\n",
        "      layers.Dense(48, activation='relu'),\n",
        "      layers.Dense(1)\n",
        "  ])\n",
        "\n",
        "dnn_model_2.compile(loss='mean_absolute_error',\n",
        "                optimizer=tf.keras.optimizers.Adam(0.001))"
      ],
      "metadata": {
        "id": "PS5yJ9zb43ct"
      },
      "execution_count": 53,
      "outputs": []
    },
    {
      "cell_type": "code",
      "source": [
        "#process model\n",
        "%%time\n",
        "history = dnn_model_2.fit(\n",
        "    early_training_features,\n",
        "    early_training_labels,\n",
        "    validation_split=0.2,\n",
        "    verbose=0,\n",
        "    epochs=10)\n",
        "\n",
        "#results\n",
        "dnn_model_2_results = dnn_model_2.evaluate(early_test_features, early_test_labels, verbose=0)\n",
        "print(dnn_model_2_results)"
      ],
      "metadata": {
        "colab": {
          "base_uri": "https://localhost:8080/"
        },
        "id": "d0erN_6T45fB",
        "outputId": "6c6542d4-6df6-499e-c989-80e699d6cfcd"
      },
      "execution_count": 54,
      "outputs": [
        {
          "output_type": "stream",
          "name": "stdout",
          "text": [
            "0.5610814094543457\n",
            "CPU times: user 8.97 s, sys: 503 ms, total: 9.47 s\n",
            "Wall time: 10.7 s\n"
          ]
        }
      ]
    },
    {
      "cell_type": "markdown",
      "source": [
        "With a MAE of 0.56, this has a greater level of error than the Combined data DNN model, however not significantly different."
      ],
      "metadata": {
        "id": "ym0wgAq6LpSi"
      }
    },
    {
      "cell_type": "code",
      "source": [
        "linear_predictions_early = dnn_model_2.predict(early_test_features[:30]) *10"
      ],
      "metadata": {
        "colab": {
          "base_uri": "https://localhost:8080/"
        },
        "id": "mDsznkvSOI9G",
        "outputId": "b4bf96ef-ca82-4c28-c236-d2728d960907"
      },
      "execution_count": 39,
      "outputs": [
        {
          "output_type": "stream",
          "name": "stderr",
          "text": [
            "WARNING:tensorflow:6 out of the last 20 calls to <function TensorFlowTrainer.make_predict_function.<locals>.one_step_on_data_distributed at 0x7a22ee5bd120> triggered tf.function retracing. Tracing is expensive and the excessive number of tracings could be due to (1) creating @tf.function repeatedly in a loop, (2) passing tensors with different shapes, (3) passing Python objects instead of tensors. For (1), please define your @tf.function outside of the loop. For (2), @tf.function has reduce_retracing=True option that can avoid unnecessary retracing. For (3), please refer to https://www.tensorflow.org/guide/function#controlling_retracing and https://www.tensorflow.org/api_docs/python/tf/function for  more details.\n"
          ]
        },
        {
          "output_type": "stream",
          "name": "stdout",
          "text": [
            "\u001b[1m1/1\u001b[0m \u001b[32m━━━━━━━━━━━━━━━━━━━━\u001b[0m\u001b[37m\u001b[0m \u001b[1m0s\u001b[0m 49ms/step\n"
          ]
        }
      ]
    },
    {
      "cell_type": "code",
      "source": [
        "actual_values = early_test_labels[:30] *10\n",
        "\n",
        "# Compare predicted values with actual values\n",
        "plt.scatter(actual_values[:30], linear_predictions_early, color='blue', label='Predicted')\n",
        "plt.scatter(actual_values[:30], actual_values[:30], color='red', label='Actual')\n",
        "plt.xlabel('Actual values')\n",
        "plt.ylabel('Predicted values')\n",
        "plt.legend()\n",
        "plt.title('Actual vs Predicted')\n",
        "plt.show()"
      ],
      "metadata": {
        "colab": {
          "base_uri": "https://localhost:8080/",
          "height": 472
        },
        "id": "x5mAONnSOV3Q",
        "outputId": "e1ca26e0-688a-4708-c5cd-a5ae48a6d130"
      },
      "execution_count": 55,
      "outputs": [
        {
          "output_type": "display_data",
          "data": {
            "text/plain": [
              "<Figure size 640x480 with 1 Axes>"
            ],
            "image/png": "[encoded data removed]"
          },
          "metadata": {}
        }
      ]
    },
    {
      "cell_type": "markdown",
      "source": [
        "The level of error can be seen in the plot above, which confirms the similarity to the first DNN plot with a greater difference in actual and predicted values at the mid and high level. Overall the model is a relatively good fit."
      ],
      "metadata": {
        "id": "39jsU2RqbwbJ"
      }
    },
    {
      "cell_type": "markdown",
      "source": [
        "### Late Period (2020-2024)"
      ],
      "metadata": {
        "id": "lD-INwsY6ecr"
      }
    },
    {
      "cell_type": "markdown",
      "source": [
        "The Late Period (2020-2024) model contains consistent variables with the above Combined Data and Early Period models."
      ],
      "metadata": {
        "id": "KlyLpWEtL-tc"
      }
    },
    {
      "cell_type": "code",
      "source": [
        "#data merging - merge location and late data files + clean\n",
        "late_data = pd.merge(late, location, on = 'collision_date', how='outer')\n",
        "\n",
        "late_data = late_data.drop(columns = 'NUM_COLLISIONS')\n",
        "\n",
        "late_data.dropna(inplace = True)"
      ],
      "metadata": {
        "id": "TyxcwzxX6jR8"
      },
      "execution_count": 56,
      "outputs": []
    },
    {
      "cell_type": "code",
      "source": [
        "#create an aggregated dataset\n",
        "average_collisions_late = late_data.groupby(['day', 'mo', 'year', 'temp', 'dewp', 'wdsp', 'fog', 'visib', 'prcp', 'sndp', 'rounded_latitude', 'rounded_longitude'])['num_collisions'].mean().reset_index()\n",
        "#rename columns\n",
        "average_collisions_late.rename(columns={'num_collisions':'avg_collisions',\n",
        "                                   'rounded_latitude' : 'latitude',\n",
        "                                   'rounded_longitude' : 'longitude'\n",
        "                                   }, inplace = True)"
      ],
      "metadata": {
        "id": "BDYlnYKa8CFg"
      },
      "execution_count": 57,
      "outputs": []
    },
    {
      "cell_type": "code",
      "source": [
        "#training and test datasets\n",
        "late_training_collisions = average_collisions_late.sample(frac=0.8, random_state=0)\n",
        "late_test_collisions = average_collisions_late.sample(frac=0.2, random_state=0)\n",
        "\n",
        "#copy datafiles\n",
        "late_training_features = late_training_collisions.copy()\n",
        "late_test_features = late_test_collisions.copy()\n",
        "\n",
        "#independent variables only\n",
        "late_training_labels = late_training_features.pop('avg_collisions')\n",
        "late_test_labels = late_test_features.pop('avg_collisions')\n",
        "\n",
        "# standardisation.\n",
        "late_training_labels = late_training_labels/10\n",
        "late_test_labels = late_test_labels/10\n",
        "\n",
        "#normalisation\n",
        "normaliser = tf.keras.layers.Normalization(axis=-1)\n",
        "normaliser.adapt(np.array(late_training_features))\n",
        "\n",
        "#DNN Model\n",
        "dnn_model_3 = keras.Sequential([\n",
        "      normaliser,\n",
        "      layers.Dense(48, activation='relu'),\n",
        "      layers.Dense(48, activation='relu'),\n",
        "      layers.Dense(1)\n",
        "  ])\n",
        "\n",
        "dnn_model_3.compile(loss='mean_absolute_error',\n",
        "                optimizer=tf.keras.optimizers.Adam(0.01))"
      ],
      "metadata": {
        "id": "OZitr3Zx6lFh"
      },
      "execution_count": 58,
      "outputs": []
    },
    {
      "cell_type": "code",
      "source": [
        "#process model\n",
        "%%time\n",
        "history = dnn_model_3.fit(\n",
        "    late_training_features,\n",
        "    late_training_labels,\n",
        "    validation_split=0.2,\n",
        "    verbose=0,\n",
        "    epochs=10)\n",
        "\n",
        "#results\n",
        "dnn_model_3_results = dnn_model_3.evaluate(late_test_features, late_test_labels, verbose=0)\n",
        "print(dnn_model_3_results)"
      ],
      "metadata": {
        "colab": {
          "base_uri": "https://localhost:8080/"
        },
        "id": "vpj4f8cD6mkD",
        "outputId": "51f375d2-eb21-4c6a-a11e-c4a8d0e17dc0"
      },
      "execution_count": 59,
      "outputs": [
        {
          "output_type": "stream",
          "name": "stdout",
          "text": [
            "0.35256168246269226\n",
            "CPU times: user 5.56 s, sys: 257 ms, total: 5.82 s\n",
            "Wall time: 6.65 s\n"
          ]
        }
      ]
    },
    {
      "cell_type": "markdown",
      "source": [
        "This model has an MAE of only 0.35 which is the best accuracy of all the models, presenting an error of within 3.5 collisions."
      ],
      "metadata": {
        "id": "LgtX6SRHMJUo"
      }
    },
    {
      "cell_type": "code",
      "source": [
        "#predition testing\n",
        "linear_predictions_late = dnn_model_3.predict(late_test_features[:30]) *10"
      ],
      "metadata": {
        "colab": {
          "base_uri": "https://localhost:8080/"
        },
        "id": "HMbbC-yDO-of",
        "outputId": "4bdd47bb-ff80-4ccf-d171-07875a2a85ff"
      },
      "execution_count": 60,
      "outputs": [
        {
          "output_type": "stream",
          "name": "stdout",
          "text": [
            "\u001b[1m1/1\u001b[0m \u001b[32m━━━━━━━━━━━━━━━━━━━━\u001b[0m\u001b[37m\u001b[0m \u001b[1m0s\u001b[0m 42ms/step\n"
          ]
        }
      ]
    },
    {
      "cell_type": "code",
      "source": [
        "#calculate actual values\n",
        "actual_values = late_test_labels[:30] *10\n",
        "\n",
        "# Compare predicted values with actual values - plot\n",
        "plt.scatter(actual_values[:30], linear_predictions_late, color='blue', label='Predicted')\n",
        "plt.scatter(actual_values[:30], actual_values[:30], color='red', label='Actual')\n",
        "plt.xlabel('Actual values')\n",
        "plt.ylabel('Predicted values')\n",
        "plt.legend()\n",
        "plt.title('Actual vs Predicted')\n",
        "plt.show()"
      ],
      "metadata": {
        "colab": {
          "base_uri": "https://localhost:8080/",
          "height": 472
        },
        "id": "UUpxZbnJPBJC",
        "outputId": "8e61cb26-792d-4b96-9b11-fc13ad36449c"
      },
      "execution_count": 61,
      "outputs": [
        {
          "output_type": "display_data",
          "data": {
            "text/plain": [
              "<Figure size 640x480 with 1 Axes>"
            ],
            "image/png": "[encoded data removed]"
          },
          "metadata": {}
        }
      ]
    },
    {
      "cell_type": "markdown",
      "source": [
        "In the plot above, the test data confirms the accuracy of the model with minimal error between the Predicted and Actual values across the entire range. This suggests that the Late Period has the strongest and most accurate DNN model for use by the Emergency Services."
      ],
      "metadata": {
        "id": "OC-FGfWsTDJw"
      }
    },
    {
      "cell_type": "markdown",
      "source": [
        "# Conclusions\n",
        "\n"
      ],
      "metadata": {
        "id": "sg4h3epTADvn"
      }
    },
    {
      "cell_type": "markdown",
      "source": [
        "## Discussions\n",
        "\n",
        "After building the Linear Regression and DNN Models for Weather and Collisions in NYC, conclusions on the most appropriate models for the emergency services to use can been made. For the Linear Regression Model, as none of the weather variables had a strong Linear Correlation, the models are not the most accurate. Overall, the Linear Regression Model using the combined time period produced the lowest MAE, and therefore the most accurate model. This was reaffirmed from the output of the test data modelling where the Predicted and Actual values are mostly aligned, with greater variation at the higher values. As such, it would be suggested that the Emergency Services utilise this model for future use.\n",
        "\n",
        "In regards to the Deep Neural Network Models, the models for all datasets were more accurate than the Linear Regression, with the Early Period data most inaccurate of the three. During testing, the combined data model showed greater variation at the higher values which is similarly seen with the Early Data model. Building the model with the Late period data produced the most accurate model, reconfirmed during testing with the predicted data across the entire range aligning with the actual values. Additionally, given that the Late Period is more recent data, this is more relevant data to use for future predictions in the coming years. This is particularly due to the vast difference in collisions noted in Assignment 1 between the Early and Late Period."
      ],
      "metadata": {
        "id": "QHJbniWNCcYo"
      }
    },
    {
      "cell_type": "markdown",
      "source": [
        "## Conclusion\n",
        "\n",
        "In conclusion, the Emergency Services of NYC are being recommended to use the combined data Linear Regression model. This will allow accurate predictions to be made regarding the number of collisions that will occur on a given day of the week. However, for greater accuracy, due to the additional inputs to the model, and the use of more recent data only, the overall recommendation is for the Late Period Deep Neural Network model to be utilised. This will provide the most accurate predictions for a given day across the year, allowing for the better planning of resource to meet demand."
      ],
      "metadata": {
        "id": "kjjMNUVbCeQw"
      }
    },
    {
      "cell_type": "markdown",
      "source": [
        "# Reference\n",
        "Python Software Foundation (2024) Python programming language. Available at: https://www.python.org/ [Accessed 15 December 2024].\n",
        "\n",
        "Abadi, M., Barham, P., Chen, J., Chen, Z., Davis, A., Dean, J., ... and Zheng, X., 2015. TensorFlow: Large-scale machine learning on heterogeneous systems, 2015. Software available from tensorflow.org.\n",
        "\n"
      ],
      "metadata": {
        "id": "8ISBkvsUhU_O"
      }
    }
  ]
}